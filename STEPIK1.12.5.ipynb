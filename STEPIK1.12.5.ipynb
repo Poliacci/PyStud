{
 "cells": [
  {
   "cell_type": "code",
   "execution_count": 5,
   "metadata": {},
   "outputs": [
    {
     "name": "stdout",
     "output_type": "stream",
     "text": [
      "14\n",
      "2\n",
      "8\n"
     ]
    }
   ],
   "source": [
    "a = int(input())\n",
    "b = int(input())\n",
    "c = int(input())\n",
    "\n",
    "if a >= b and a >= c:\n",
    "    print(a)\n",
    "    if b >= c:\n",
    "        print(c)\n",
    "        print(b)\n",
    "    else:\n",
    "        print(b)\n",
    "        print(c)\n",
    "elif b>= a and b >= c:\n",
    "    print(b)\n",
    "    if a >= c:\n",
    "        print(c)\n",
    "        print(a)\n",
    "    else:\n",
    "        print(a)\n",
    "        print(c)\n",
    "else:\n",
    "    print(c)\n",
    "    if a >= b:\n",
    "        print(b)\n",
    "        print(a) \n",
    "    else:\n",
    "        print(a)\n",
    "        print(b)       "
   ]
  }
 ],
 "metadata": {
  "kernelspec": {
   "display_name": "Python 3",
   "language": "python",
   "name": "python3"
  },
  "language_info": {
   "codemirror_mode": {
    "name": "ipython",
    "version": 3
   },
   "file_extension": ".py",
   "mimetype": "text/x-python",
   "name": "python",
   "nbconvert_exporter": "python",
   "pygments_lexer": "ipython3",
   "version": "3.6.2"
  },
  "orig_nbformat": 4
 },
 "nbformat": 4,
 "nbformat_minor": 2
}
