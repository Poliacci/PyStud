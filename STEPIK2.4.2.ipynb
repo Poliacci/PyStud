{
 "cells": [
  {
   "cell_type": "code",
   "execution_count": 4,
   "metadata": {},
   "outputs": [
    {
     "name": "stdout",
     "output_type": "stream",
     "text": [
      "b2a1b3a3c2a1b1c1\n"
     ]
    }
   ],
   "source": [
    "init = input()\n",
    "i = 0\n",
    "\n",
    "while i < len(init):\n",
    "    s = init[i]\n",
    "    num = 1\n",
    "    i += 1\n",
    "\n",
    "    while i < len(init) and s == init[i]:\n",
    "        num += 1\n",
    "        i += 1\n",
    "    print(s + str(num), end='')\n",
    "            \n",
    "print()"
   ]
  }
 ],
 "metadata": {
  "kernelspec": {
   "display_name": "Python 3",
   "language": "python",
   "name": "python3"
  },
  "language_info": {
   "codemirror_mode": {
    "name": "ipython",
    "version": 3
   },
   "file_extension": ".py",
   "mimetype": "text/x-python",
   "name": "python",
   "nbconvert_exporter": "python",
   "pygments_lexer": "ipython3",
   "version": "3.6.2"
  },
  "orig_nbformat": 4
 },
 "nbformat": 4,
 "nbformat_minor": 2
}
