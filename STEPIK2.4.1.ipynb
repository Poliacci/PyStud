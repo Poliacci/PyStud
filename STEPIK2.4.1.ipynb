{
 "cells": [
  {
   "cell_type": "code",
   "execution_count": 7,
   "metadata": {},
   "outputs": [
    {
     "name": "stdout",
     "output_type": "stream",
     "text": [
      "2\n"
     ]
    }
   ],
   "source": [
    "s = input()\n",
    "l = int(len(s))\n",
    "countA = 1\n",
    "countB = 1\n",
    "countC = 1\n",
    "a = \"a\"\n",
    "b = \"b\"\n",
    "c = \"c\"\n",
    "first = True\n",
    "i = 0\n",
    "\n",
    "# for g in s:\n",
    "#     if s.find(a) != -1:\n",
    "#         initial = s.find(a)\n",
    "#         condition = True\n",
    "#         num = 1\n",
    "#         stro = a\n",
    "#         while condition == True:\n",
    "#             stro += a\n",
    "#            if s.find(stro) != -1:\n",
    "#                num += 1\n",
    "#            else:\n",
    "#                newStr = s[initial:initial+num]\n",
    "#                #print(s[:initial-1])\n",
    "#                #print(s[initial-1:])\n",
    "#                s = s[:initial] + str(num) + s[initial+num-1:]\n",
    "#                condition = False\n",
    "if s.find(a) != -1:\n",
    "    initial = s.find(a)\n",
    "    condition = True\n",
    "    num = 1\n",
    "    stro = a\n",
    "    while condition == True:\n",
    "        stro += a\n",
    "        if s.find(stro) != -1:\n",
    "            num += 1\n",
    "        else:\n",
    "            newStr = s[initial:initial+num]\n",
    "            #print(s[:initial-1])\n",
    "            #print(s[initial-1:])\n",
    "            s = s[:initial] + str(num) + s[initial+num-1:]\n",
    "            condition = False\n",
    "\n",
    "            \n",
    "print(newStr, initial, num, stro, s)\n",
    "\n",
    "\n",
    "\n"
   ]
  }
 ],
 "metadata": {
  "kernelspec": {
   "display_name": "Python 3",
   "language": "python",
   "name": "python3"
  },
  "language_info": {
   "codemirror_mode": {
    "name": "ipython",
    "version": 3
   },
   "file_extension": ".py",
   "mimetype": "text/x-python",
   "name": "python",
   "nbconvert_exporter": "python",
   "pygments_lexer": "ipython3",
   "version": "3.6.2"
  },
  "orig_nbformat": 4
 },
 "nbformat": 4,
 "nbformat_minor": 2
}
