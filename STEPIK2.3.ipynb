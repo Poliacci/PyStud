{
 "cells": [
  {
   "cell_type": "code",
   "execution_count": 7,
   "metadata": {},
   "outputs": [
    {
     "name": "stdout",
     "output_type": "stream",
     "text": [
      "2\n"
     ]
    }
   ],
   "source": [
    "a = int(input())\n",
    "b = int(input())\n",
    "c = int(input())\n",
    "d = int(input())\n",
    "tmp = -1\n",
    "f = True\n",
    "\n",
    "for i in range(a-1, b+1):\n",
    "    for j in range(c-1, d+1):\n",
    "        if i > tmp:\n",
    "            f = True\n",
    "        tmp = i\n",
    "        if i == a-1:\n",
    "            if f == True:\n",
    "                print(\"\", end=\"\\t\")\n",
    "                f = False\n",
    "            else:\n",
    "                print(j, end=\"\\t\")\n",
    "\n",
    "        else:\n",
    "            if f == True:\n",
    "                print(i, end=\"\\t\")\n",
    "                f = False\n",
    "            else:\n",
    "                print(j*i, end=\"\\t\")\n",
    "            \n",
    "    print()"
   ]
  }
 ],
 "metadata": {
  "kernelspec": {
   "display_name": "Python 3",
   "language": "python",
   "name": "python3"
  },
  "language_info": {
   "codemirror_mode": {
    "name": "ipython",
    "version": 3
   },
   "file_extension": ".py",
   "mimetype": "text/x-python",
   "name": "python",
   "nbconvert_exporter": "python",
   "pygments_lexer": "ipython3",
   "version": "3.6.2"
  },
  "orig_nbformat": 4
 },
 "nbformat": 4,
 "nbformat_minor": 2
}
