{
 "cells": [
  {
   "cell_type": "code",
   "execution_count": 28,
   "metadata": {},
   "outputs": [
    {
     "name": "stdout",
     "output_type": "stream",
     "text": [
      "10\n",
      "10\n"
     ]
    }
   ],
   "source": [
    "a = input().split()\n",
    "endstr = ''\n",
    "i = 0\n",
    "while i < len(a):\n",
    "    if len(a)>1:\n",
    "        left = a[i - 1]\n",
    "        if i+1 == len(a):\n",
    "            right = a[0]\n",
    "        else:\n",
    "            right = a[i + 1]\n",
    "\n",
    "        sum = int(left) + int(right)\n",
    "        if i+1 == len(a):\n",
    "            endstr += str(sum)\n",
    "        else:\n",
    "            endstr += str(sum) + ' '\n",
    "        i += 1\n",
    "    else:\n",
    "        endstr += str(a[i])\n",
    "        break\n",
    "print(endstr)"
   ]
  }
 ],
 "metadata": {
  "kernelspec": {
   "display_name": "Python 3",
   "language": "python",
   "name": "python3"
  },
  "language_info": {
   "codemirror_mode": {
    "name": "ipython",
    "version": 3
   },
   "file_extension": ".py",
   "mimetype": "text/x-python",
   "name": "python",
   "nbconvert_exporter": "python",
   "pygments_lexer": "ipython3",
   "version": "3.6.2"
  },
  "orig_nbformat": 4
 },
 "nbformat": 4,
 "nbformat_minor": 2
}
