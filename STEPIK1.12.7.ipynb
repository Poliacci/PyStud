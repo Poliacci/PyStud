{
 "cells": [
  {
   "cell_type": "code",
   "execution_count": 15,
   "metadata": {},
   "outputs": [
    {
     "name": "stdout",
     "output_type": "stream",
     "text": [
      "Счастливый\n"
     ]
    }
   ],
   "source": [
    "b = int(input())\n",
    "\n",
    "a1 = b%10\n",
    "b = b//10\n",
    "a2 = b%10\n",
    "b = b//10\n",
    "a3 = b%10\n",
    "b = b//10\n",
    "a4 = b%10\n",
    "b = b//10\n",
    "a5 = b%10\n",
    "b = b//10\n",
    "a6 = b%10\n",
    "\n",
    "if a1 + a2 + a3 == a4 + a5 + a6:\n",
    "    print(\"Счастливый\")\n",
    "else:\n",
    "    print(\"Обычный\")"
   ]
  }
 ],
 "metadata": {
  "kernelspec": {
   "display_name": "Python 3",
   "language": "python",
   "name": "python3"
  },
  "language_info": {
   "codemirror_mode": {
    "name": "ipython",
    "version": 3
   },
   "file_extension": ".py",
   "mimetype": "text/x-python",
   "name": "python",
   "nbconvert_exporter": "python",
   "pygments_lexer": "ipython3",
   "version": "3.6.2"
  },
  "orig_nbformat": 4
 },
 "nbformat": 4,
 "nbformat_minor": 2
}
