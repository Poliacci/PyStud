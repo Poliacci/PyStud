{
 "cells": [
  {
   "cell_type": "code",
   "execution_count": 3,
   "metadata": {},
   "outputs": [
    {
     "name": "stdout",
     "output_type": "stream",
     "text": [
      "78.5\n"
     ]
    }
   ],
   "source": [
    "f = input()\n",
    "pi = 3.14\n",
    "\n",
    "if f == \"круг\":\n",
    "    r = float(input())\n",
    "    print(pi*(r**2))\n",
    "elif f == \"прямоугольник\":\n",
    "    a = float(input())\n",
    "    b = float(input())\n",
    "    print(a * b)\n",
    "elif f == \"треугольник\":\n",
    "    a = float(input())\n",
    "    b = float(input())\n",
    "    c = float(input())\n",
    "    p = (a + b + c)/2\n",
    "    s = float((p*(p-a)*(p-b)*(p-c))**0.5)\n",
    "    print(s)\n"
   ]
  }
 ],
 "metadata": {
  "kernelspec": {
   "display_name": "Python 3",
   "language": "python",
   "name": "python3"
  },
  "language_info": {
   "codemirror_mode": {
    "name": "ipython",
    "version": 3
   },
   "file_extension": ".py",
   "mimetype": "text/x-python",
   "name": "python",
   "nbconvert_exporter": "python",
   "pygments_lexer": "ipython3",
   "version": "3.6.2"
  },
  "orig_nbformat": 4
 },
 "nbformat": 4,
 "nbformat_minor": 2
}
