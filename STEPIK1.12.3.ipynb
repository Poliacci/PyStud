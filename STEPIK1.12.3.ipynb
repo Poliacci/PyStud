{
 "cells": [
  {
   "cell_type": "code",
   "execution_count": 3,
   "metadata": {},
   "outputs": [
    {
     "name": "stdout",
     "output_type": "stream",
     "text": [
      "0.5\n"
     ]
    }
   ],
   "source": [
    "a = float(input())\n",
    "b = float(input())\n",
    "c = input()\n",
    "\n",
    "if c == \"+\":\n",
    "    print(a + b)\n",
    "elif c == \"-\":\n",
    "    print(a - b)\n",
    "elif c == \"/\":\n",
    "    if b!= 0:\n",
    "        print(a / b)\n",
    "    else:\n",
    "        print(\"Деление на 0!\")\n",
    "elif c == \"*\":\n",
    "    print(a*b)\n",
    "elif c == \"mod\":\n",
    "    if b!= 0:\n",
    "        print(a % b)\n",
    "    else:\n",
    "        print(\"Деление на 0!\")\n",
    "elif c == \"pow\":\n",
    "    print(a**b)\n",
    "elif c == \"div\":\n",
    "    if b!= 0:\n",
    "        print(a // b)\n",
    "    else:\n",
    "        print(\"Деление на 0!\")"
   ]
  }
 ],
 "metadata": {
  "kernelspec": {
   "display_name": "Python 3",
   "language": "python",
   "name": "python3"
  },
  "language_info": {
   "codemirror_mode": {
    "name": "ipython",
    "version": 3
   },
   "file_extension": ".py",
   "mimetype": "text/x-python",
   "name": "python",
   "nbconvert_exporter": "python",
   "pygments_lexer": "ipython3",
   "version": "3.6.2"
  },
  "orig_nbformat": 4
 },
 "nbformat": 4,
 "nbformat_minor": 2
}
