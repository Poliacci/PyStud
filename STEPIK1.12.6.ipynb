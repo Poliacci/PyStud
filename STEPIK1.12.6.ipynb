{
 "cells": [
  {
   "cell_type": "code",
   "execution_count": 58,
   "metadata": {},
   "outputs": [
    {
     "name": "stdout",
     "output_type": "stream",
     "text": [
      "315 программистов\n"
     ]
    }
   ],
   "source": [
    "a = int(input())\n",
    "\n",
    "if a == 1 or ((a > 20 and a < 100) and a%10 == 1) or (a == 101) or ((a>100 and a < 1000) and ((a%10 == 1) and (a%100 != 11))):\n",
    "    print(a, \"программист\")\n",
    "\n",
    "elif (a>= 2 and a < 5) or ((a > 20 and a <100) and (a%10 >= 2 and a%10 <5)) or ((a > 100 and a <1000) and ((a%10 >= 2 and a%10 <5) and ((a%100 >=2 and a%100 <5) or a%100 > 20))):\n",
    "    print(a, \"программиста\")\n",
    "else:\n",
    "    print(a, \"программистов\")\n",
    "    "
   ]
  }
 ],
 "metadata": {
  "kernelspec": {
   "display_name": "Python 3",
   "language": "python",
   "name": "python3"
  },
  "language_info": {
   "codemirror_mode": {
    "name": "ipython",
    "version": 3
   },
   "file_extension": ".py",
   "mimetype": "text/x-python",
   "name": "python",
   "nbconvert_exporter": "python",
   "pygments_lexer": "ipython3",
   "version": "3.6.2"
  },
  "orig_nbformat": 4
 },
 "nbformat": 4,
 "nbformat_minor": 2
}
